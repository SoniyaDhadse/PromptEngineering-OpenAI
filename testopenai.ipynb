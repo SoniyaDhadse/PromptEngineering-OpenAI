{
 "cells": [
  {
   "cell_type": "code",
   "execution_count": null,
   "metadata": {},
   "outputs": [],
   "source": [
    "import openai\n",
    "from dotenv import load_dotenv\n",
    "import os\n",
    "\n",
    "openai.api_key=os.getenv('OPENAI_API_KEY')"
   ]
  },
  {
   "cell_type": "code",
   "execution_count": null,
   "metadata": {},
   "outputs": [],
   "source": [
    "import pandas as pd\n",
    "pd.DataFrame(openai.Model.list()['data'])"
   ]
  },
  {
   "cell_type": "code",
   "execution_count": null,
   "metadata": {},
   "outputs": [],
   "source": [
    "#completion api chatgpt 3 and chat completion api chatgpt 3.5\n",
    "#completion api\n",
    "response=openai.Completion.create(\n",
    "    model ='text-curie-001',\n",
    "    prompt ='what is the capital of India',\n",
    "    # n=3,\n",
    "    # max_tokens = 20,\n",
    "    # temperature= 0.5\n",
    "\n",
    ")\n",
    "response"
   ]
  },
  {
   "cell_type": "code",
   "execution_count": null,
   "metadata": {},
   "outputs": [],
   "source": [
    "#chat completion api\n",
    "openai.ChatCompletion.create(\n",
    "    model = 'gpt-3.5-turbo',\n",
    "    messages = [{'role':'system','content':'act as an AI assistant'},\n",
    "                    {'role':'user','content':'how r u?'},\n",
    "                    {'role':'user','content':'I am 35 year old ML engineer'},\n",
    "                    {'role':'user','content':'what is my profession?'}]\n",
    ")"
   ]
  },
  {
   "cell_type": "code",
   "execution_count": null,
   "metadata": {},
   "outputs": [],
   "source": [
    "def get_completion(prompt, model=\"gpt-3.5-turbo\"):\n",
    "    messages = [{\"role\": \"user\", \"content\": prompt}]\n",
    "    response = openai.ChatCompletion.create(\n",
    "        model=model,\n",
    "        messages=messages,\n",
    "        temperature=0, # this is the degree of randomness of the model's output\n",
    "    )\n",
    "    return response.choices[0].message[\"content\"]\n",
    "\n",
    "# prompt = '''{text}'''\n",
    "text=input('enter ur question')\n",
    "prompt = f'''{text}'''\n",
    "response = get_completion(prompt)\n",
    "print(response)\n"
   ]
  },
  {
   "cell_type": "code",
   "execution_count": 8,
   "metadata": {},
   "outputs": [
    {
     "data": {
      "text/plain": [
       "<OpenAIObject at 0x1f3728d5350> JSON: {\n",
       "  \"text\": \"I put my armor on, I'll show you how strong I am I put my armor on, I'll show you that I am I'm unstoppable I'm a Porsche with no brakes I'm invincible And I win every single game I'm so powerful I don't need batteries to play I'm so confident I'm unstoppable\"\n",
       "}"
      ]
     },
     "execution_count": 8,
     "metadata": {},
     "output_type": "execute_result"
    }
   ],
   "source": [
    "##speech to text\n",
    "# Note: you need to be using OpenAI Python v0.27.0 for the code below to work\n",
    "import openai\n",
    "audio_file= open(\"C:\\\\Users\\\\91885\\\\Downloads\\\\Unstoppable-Ringtone(PagalWorld).mp3\", \"rb\")\n",
    "transcript = openai.Audio.transcribe(\"whisper-1\", audio_file)\n",
    "transcript"
   ]
  }
 ],
 "metadata": {
  "kernelspec": {
   "display_name": "Python 3",
   "language": "python",
   "name": "python3"
  },
  "language_info": {
   "codemirror_mode": {
    "name": "ipython",
    "version": 3
   },
   "file_extension": ".py",
   "mimetype": "text/x-python",
   "name": "python",
   "nbconvert_exporter": "python",
   "pygments_lexer": "ipython3",
   "version": "3.10.12"
  },
  "orig_nbformat": 4
 },
 "nbformat": 4,
 "nbformat_minor": 2
}
